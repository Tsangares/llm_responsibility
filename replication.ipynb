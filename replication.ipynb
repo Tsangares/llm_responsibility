{
 "cells": [
  {
   "cell_type": "markdown",
   "metadata": {},
   "source": [
    "author: William Wyatt\n",
    "\n",
    "purpose: To both analize datasets produced by the game play file, along with replicated tables and data from the original paper. "
   ]
  },
  {
   "cell_type": "code",
   "execution_count": null,
   "metadata": {},
   "outputs": [],
   "source": [
    "import pandas as pd\n",
    "import matplotlib.pyplot as plt\n",
    "import numpy as np\n",
    "from tabulate import tabulate\n",
    "import statsmodels.api as sm"
   ]
  },
  {
   "cell_type": "code",
   "execution_count": null,
   "metadata": {},
   "outputs": [],
   "source": [
    "# Running large dataset # 1\n",
    "#pp_df = pd.read_csv('./dist/pp_df_1734392696.csv')\n",
    "#ps_df = pd.read_csv('./dist/ps_df_1734392696.csv')\n",
    "# Repeating same prompt #2\n",
    "#pp_df = pd.read_csv('./dist/pp_df_1734393871.csv')\n",
    "#ps_df = pd.read_csv('./dist/ps_df_1734393871.csv')\n",
    "\n",
    "#This one is asking it to make a note for why it made its decision\n",
    "#pp_df = pd.read_csv('./dist/pp_df_1734395183.csv')\n",
    "#ps_df = pd.read_csv('./dist/ps_df_1734395183.csv')\n",
    "#pp_df = pd.concat([pd.read_csv('./dist/pp_df_1734412911.csv'), pd.read_csv('./dist/pp_df_1734395183.csv')])\n",
    "#ps_df = pd.concat([pd.read_csv('./dist/ps_df_1734412911.csv'), pd.read_csv('./dist/ps_df_1734395183.csv')])\n",
    "#"
   ]
  },
  {
   "cell_type": "code",
   "execution_count": null,
   "metadata": {},
   "outputs": [],
   "source": [
    "# Mixed Strategy DataFrame: LLM Vs Mixed Strategy\n",
    "mixed_pp_df = pd.read_csv('./dist/pp_df_1736822704.csv')\n",
    "mixed_ps_df = pd.read_csv('./dist/ps_df_1736822704.csv')"
   ]
  },
  {
   "cell_type": "code",
   "execution_count": null,
   "metadata": {},
   "outputs": [],
   "source": [
    "# 50-50 Random Agent DataFrame: LLM vs CoinToss\n",
    "#random_pp_df = pd.read_csv('./dist/pp_df_1734475400.csv')\n",
    "#random_ps_df = pd.read_csv('./dist/ps_df_1734475400.csv')\n",
    "random_pp_df = pd.read_csv('./dist/pp_df_1734473675.csv')\n",
    "random_ps_df = pd.read_csv('./dist/ps_df_1734473675.csv')"
   ]
  },
  {
   "cell_type": "code",
   "execution_count": null,
   "metadata": {},
   "outputs": [],
   "source": [
    "# Main Dataframes of the basic game of LLM vs LLM\n",
    "#pp_df = pd.read_csv('./dist/pp_df_1734412911.csv')\n",
    "#ps_df = pd.read_csv('./dist/ps_df_1734412911.csv')\n",
    "pp_df = pd.read_csv('./dist/pp_df_1734395183.csv')\n",
    "ps_df = pd.read_csv('./dist/ps_df_1734395183.csv')\n",
    "\n",
    "# Inject a Session counter into the dataframe\n",
    "if 'session' not in  pp_df.columns:\n",
    "    pp_df['session'] = pp_df.groupby('player').cumcount()//(pp_df['period'].max()+1)\n",
    "    ps_df['session'] = ps_df.groupby('player').cumcount()//(ps_df['period'].max()+1)\n",
    "if 'decision' in pp_df.columns:\n",
    "    pp_df = pp_df.rename(columns={'decision': 'stag'})\n",
    "    ps_df = ps_df.rename(columns={'decision': 'stag'})\n",
    "    \n",
    "print(f\"Play-for-Pair rows {len(pp_df)}\")\n",
    "print(f\"Play-for-Self rows {len(ps_df)}\")"
   ]
  },
  {
   "cell_type": "code",
   "execution_count": null,
   "metadata": {},
   "outputs": [],
   "source": [
    "# Rewrite the data frame now that session index has been added.\n",
    "#pp_df.to_csv('./dist/play_for_pair_250107.csv', index=False)\n",
    "#ps_df.to_csv('./dist/play_for_self_250107.csv', index=False)"
   ]
  },
  {
   "cell_type": "code",
   "execution_count": null,
   "metadata": {},
   "outputs": [],
   "source": [
    "## Percentages\n",
    "\n",
    "# Play-for-Pair\n",
    "pp_total_decisions = len(pp_df)\n",
    "pp_yes_decisions = pp_df[pp_df['stag'] == True].shape[0]\n",
    "pp_percentage_yes = (pp_yes_decisions / pp_total_decisions) * 100\n",
    "\n",
    "# Play-for-Self\n",
    "ps_total_decisions = len(ps_df)\n",
    "ps_yes_decisions = ps_df[ps_df['stag'] == True].shape[0]\n",
    "ps_percentage_yes = (ps_yes_decisions / ps_total_decisions) * 100\n",
    "\n",
    "# Your experiment's percentages\n",
    "your_percentages = [pp_percentage_yes, ps_percentage_yes]\n",
    "\n",
    "# Papers Results\n",
    "paper_pp_percentage = 43.9\n",
    "paper_ps_percentage = 61.2\n",
    "\n",
    "paper_percentages = [paper_pp_percentage, paper_ps_percentage]\n",
    "\n",
    "# Data for plotting\n",
    "game_types = ['Play-for-Pair', 'Play-for-Self']\n",
    "x = np.arange(len(game_types))  # the label locations\n",
    "width = 0.35  # the width of the bars\n",
    "\n",
    "\n",
    "def boostrap_errors(df):\n",
    "    sample_size = len(df)\n",
    "    means = []\n",
    "    for _ in range(10_000):\n",
    "        sample = df['stag'].sample(sample_size, replace=True)\n",
    "        mean = sample.mean()\n",
    "        means.append(mean)\n",
    "    return np.percentile(means, [2.5, 97.5])\n",
    "#pp_df_err = boostrap_errors(pp_df)\n",
    "#ps_df_err = boostrap_errors(ps_df)\n",
    "#print(pp_df_err)\n",
    "#print(ps_df_err)\n",
    "\n",
    "# Create the bar chart\n",
    "plt.figure(figsize=(7, 3))\n",
    "rects1 = plt.bar(x - width/2, your_percentages, width, label='gpt-4o-mini', color=['blue'], capsize=5)\n",
    "rects2 = plt.bar(x + width/2, paper_percentages, width, label='Charness & Jackson (2009)', color=['green'])\n",
    "\n",
    "# Add percentage labels on top of the bars\n",
    "def autolabel(rects):\n",
    "    for rect in rects:\n",
    "        height = rect.get_height()\n",
    "        plt.annotate(f'{height:.2f}%',\n",
    "                     xy=(rect.get_x() + rect.get_width() / 2, height + 1),\n",
    "                     xytext=(0, 3),  # 3 points vertical offset\n",
    "                     textcoords=\"offset points\",\n",
    "                     ha='center', va='bottom')\n",
    "\n",
    "autolabel(rects1)\n",
    "autolabel(rects2)\n",
    "\n",
    "# Chart formatting\n",
    "plt.title('Percentage of \"Stag\" Decisions by Game Type')\n",
    "plt.ylabel('Percentage of \"Stag\" Decisions')\n",
    "plt.xticks(x, game_types)\n",
    "plt.ylim(0, 100)\n",
    "plt.legend()\n",
    "\n",
    "print(f\"Play-for-Pair Stag( {pp_yes_decisions:03d}; {pp_yes_decisions/pp_total_decisions:.02%} ) Hare( {pp_total_decisions - pp_yes_decisions:03d}; {(pp_total_decisions - pp_yes_decisions)/pp_total_decisions:.02%} )\")\n",
    "print(f\"Play-for-Self Stag( {ps_yes_decisions:03d}; {ps_yes_decisions/ps_total_decisions:.02%} ) Hare( {ps_total_decisions - ps_yes_decisions:03d}; {(ps_total_decisions - ps_yes_decisions)/ps_total_decisions:.02%} )\")\n",
    "\n",
    "\n",
    "plt.show()"
   ]
  },
  {
   "cell_type": "code",
   "execution_count": null,
   "metadata": {},
   "outputs": [],
   "source": [
    "pp_llm,pp_random_agent = random_pp_df.groupby('player')['stag'].mean()*100\n",
    "ps_llm,ps_random_agent = random_ps_df.groupby('player')['stag'].mean()*100\n",
    "\n",
    "width = 0.35\n",
    "# Papers Results\n",
    "paper_pp_percentage = 43.9\n",
    "paper_ps_percentage = 61.2\n",
    "plt.figure(figsize=(7, 3))\n",
    "rects1 = plt.bar(x - width, [pp_llm,ps_llm], width, label='gpt-4o-mini - Against Random Agent', color=['orange'])\n",
    "#rects2 = plt.bar(x, [pp_random_agent,ps_random_agent], width, label='Random Agent', color=['red'])\n",
    "rects3 = plt.bar(x, paper_percentages, width, label='Charness & Jackson (2009)', color=['green'])\n",
    "plt.ylim(0,100)\n",
    "autolabel(rects1)\n",
    "#autolabel(rects2)\n",
    "autolabel(rects3)\n",
    "# Place horizontal dotted line at 50%\n",
    "#plt.axhline(y=50, color='black', linestyle='--', alpha=0.3)\n",
    "plt.title('Percentage of \"Stag\" Decisions by Game Type; Against Random Agent')\n",
    "plt.ylabel('Percentage of \"Stag\" Decisions')\n",
    "plt.xticks(x, game_types)\n",
    "plt.ylim(0, 100)\n",
    "plt.legend()\n",
    "plt.legend()"
   ]
  },
  {
   "cell_type": "code",
   "execution_count": null,
   "metadata": {},
   "outputs": [],
   "source": [
    "pp_llm,pp_random_agent = mixed_pp_df.groupby('player')['stag'].mean()*100\n",
    "ps_llm,ps_random_agent = mixed_ps_df.groupby('player')['stag'].mean()*100\n",
    "width = 0.35*2/3\n",
    "# Papers Results\n",
    "paper_pp_percentage = 43.9\n",
    "paper_ps_percentage = 61.2\n",
    "plt.figure(figsize=(7, 3))\n",
    "rects1 = plt.bar(x - width, [pp_llm,ps_llm], width, label='gpt-4o-mini', color=['blue'])\n",
    "rects2 = plt.bar(x, [pp_random_agent,ps_random_agent], width, label='Mixed-Strat, Random Agent', color=['red'])\n",
    "rects3 = plt.bar(x + width, paper_percentages, width, label='Charness & Jackson (2009)', color=['green'])\n",
    "plt.ylim(0,100)\n",
    "autolabel(rects1)\n",
    "autolabel(rects2)\n",
    "autolabel(rects3)\n",
    "# Place horizontal dotted line at 50%\n",
    "plt.axhline(y=87.5, color='black', linestyle='--', alpha=0.3)\n",
    "plt.title('Percentage of \"Stag\" Decisions by Game Type; Against Mixed Strategy Agent')\n",
    "plt.ylabel('Percentage of \"Stag\" Decisions')\n",
    "plt.xticks(x, game_types)\n",
    "plt.ylim(0, 100)\n",
    "plt.legend()\n",
    "plt.show()"
   ]
  },
  {
   "cell_type": "code",
   "execution_count": null,
   "metadata": {},
   "outputs": [],
   "source": [
    "pp_llm,pp_random_agent = mixed_pp_df.groupby('player')['stag'].mean()*100\n",
    "ps_llm,ps_random_agent = mixed_ps_df.groupby('player')['stag'].mean()*100\n",
    "\n",
    "# Play-for-Pair\n",
    "pp_total_decisions = len(pp_df)\n",
    "pp_yes_decisions = pp_df[pp_df['stag'] == True].shape[0]\n",
    "pp_percentage_yes = (pp_yes_decisions / pp_total_decisions) * 100\n",
    "\n",
    "# Play-for-Self\n",
    "ps_total_decisions = len(ps_df)\n",
    "ps_yes_decisions = ps_df[ps_df['stag'] == True].shape[0]\n",
    "ps_percentage_yes = (ps_yes_decisions / ps_total_decisions) * 100\n",
    "\n",
    "\n",
    "print(mixed_pp_df)\n",
    "width = 0.35*2/3\n",
    "# Papers Results\n",
    "paper_pp_percentage = 43.9\n",
    "paper_ps_percentage = 61.2\n",
    "plt.figure(figsize=(7, 3))\n",
    "rects2 = plt.bar(x - width, your_percentages, width, label='LLM vs LLM (gpt-4o-mini)', color=['blue'], capsize=5)\n",
    "rects1 = plt.bar(x , [pp_llm,ps_llm], width, label='LLM vs Mixed Strategy', color=['orange'])\n",
    "rects3 = plt.bar(x + width, paper_percentages, width, label='Charness & Jackson (2009)', color=['green'])\n",
    "plt.ylim(0,100)\n",
    "autolabel(rects1)\n",
    "autolabel(rects2)\n",
    "autolabel(rects3)\n",
    "# Place horizontal dotted line at 50%\n",
    "#plt.axhline(y=87.5, color='black', linestyle='--', alpha=0.3)\n",
    "plt.title('Percentage of \"Stag\" Decisions by Game Type')\n",
    "plt.ylabel('Percentage of \"Stag\" Decisions')\n",
    "plt.xticks(x, game_types)\n",
    "plt.ylim(0, 100)\n",
    "plt.legend()"
   ]
  },
  {
   "cell_type": "code",
   "execution_count": null,
   "metadata": {},
   "outputs": [],
   "source": [
    "random_pp_rounds_players = random_pp_df.groupby(['player','period'])['stag'].mean().reset_index()\n",
    "random_pp_rounds_random = random_pp_rounds_players[random_pp_rounds_players['player']=='Team2']['stag']\n",
    "random_pp_rounds_llm = random_pp_rounds_players[random_pp_rounds_players['player']=='Team1']['stag']\n",
    "\n",
    "random_ps_rounds_players = random_ps_df.groupby(['player','period'])['stag'].mean().reset_index()\n",
    "random_ps_rounds_random = random_ps_rounds_players[random_ps_rounds_players['player']=='Player2']['stag']\n",
    "random_ps_rounds_llm = random_ps_rounds_players[random_ps_rounds_players['player']=='Player1']['stag']\n",
    "\n",
    "plt.figure(figsize=(10, 5))\n",
    "plt.suptitle(\"Average Stag Vote by Period; Random Agent\")\n",
    "plt.subplot(1,2,1)\n",
    "plt.title(\"Play-for-Pair\")\n",
    "plt.plot(np.linspace(1,15,15), random_pp_rounds_llm, label='LLM', color='blue')\n",
    "plt.plot(np.linspace(1,15,15), random_pp_rounds_random, label='Random Agent', color='red')\n",
    "plt.hlines(.5,1,15,linestyles='dashed',color='black',alpha=0.3)\n",
    "plt.xlabel(\"Period #\")\n",
    "plt.ylabel(\"Average Stag Vote\")\n",
    "plt.legend()\n",
    "plt.grid()\n",
    "plt.ylim(0,1)\n",
    "\n",
    "plt.subplot(1,2,2)\n",
    "plt.title(\"Play-for-Self\")\n",
    "plt.plot(np.linspace(1,15,15), random_ps_rounds_llm, label='LLM', color='blue')\n",
    "plt.hlines(.5,1,15,linestyles='dashed',color='black',alpha=0.3)\n",
    "plt.plot(np.linspace(1,15,15), random_ps_rounds_random, label='Random Agent', color='red')\n",
    "plt.xlabel(\"Period #\")\n",
    "plt.ylabel(\"Average Stag Vote\")\n",
    "plt.grid()\n",
    "plt.legend()\n",
    "plt.ylim(0,1)\n",
    "\n",
    "plt.show()"
   ]
  },
  {
   "cell_type": "code",
   "execution_count": null,
   "metadata": {},
   "outputs": [],
   "source": [
    "# Last segment sum of decesion\n",
    "print(\"Table-3; Stag Vote Totals for groups in the last period of a segment\")\n",
    "print(pp_df[pp_df['period']==14].groupby(['session','player'])['stag'].sum().groupby('session').sum().value_counts())\n",
    "print(ps_df[ps_df['period']==14].groupby(['session','player'])['stag'].sum().groupby('session').sum().value_counts())"
   ]
  },
  {
   "cell_type": "code",
   "execution_count": null,
   "metadata": {},
   "outputs": [],
   "source": [
    "# first segment sum of decesion\n",
    "print(\"Stag Vote Totals for groups in the first period of a segment\")\n",
    "print(pp_df[pp_df['period']==0].groupby(['session','player'])['stag'].sum().groupby('session').sum().value_counts())\n",
    "print(ps_df[ps_df['period']==0].groupby(['session','player'])['stag'].sum().groupby('session').sum().value_counts())"
   ]
  },
  {
   "cell_type": "code",
   "execution_count": null,
   "metadata": {},
   "outputs": [],
   "source": [
    "plt.figure(figsize=(10, 5))\n",
    "plt.suptitle(\"Average Stag Vote by Period\")\n",
    "plt.subplot(1,2,1)\n",
    "plt.title(\"Play-for-Pair\")\n",
    "pp_df.groupby(['period'])['stag'].mean().plot(color='purple')\n",
    "\n",
    "plt.xlabel(\"Period #\")\n",
    "plt.ylabel(\"Average Stag Vote\")\n",
    "plt.grid()\n",
    "plt.ylim(0,1)\n",
    "\n",
    "plt.subplot(1,2,2)\n",
    "plt.title(\"Play-for-Self\")\n",
    "ps_df.groupby(['period'])['stag'].mean().plot(color='brown')\n",
    "plt.xlabel(\"Period #\")\n",
    "plt.ylabel(\"Average Stag Vote\")\n",
    "plt.grid()\n",
    "plt.ylim(0,1)\n",
    "\n",
    "plt.show()"
   ]
  },
  {
   "cell_type": "markdown",
   "metadata": {},
   "source": [
    "## Recreate Table 2\n",
    "Individual proﬁles."
   ]
  },
  {
   "cell_type": "code",
   "execution_count": null,
   "metadata": {},
   "outputs": [],
   "source": [
    "pp_df.groupby(['session','player'])['stag'].mean()"
   ]
  },
  {
   "cell_type": "markdown",
   "metadata": {},
   "source": [
    "## Recreate Table 3\n",
    "\n",
    "Stag vote totals for groups in last period of segment."
   ]
  },
  {
   "cell_type": "code",
   "execution_count": null,
   "metadata": {},
   "outputs": [],
   "source": [
    "# Filter for the maximum period and compute value counts for \"Play-for-Pair\"\n",
    "pfp_counts = (pp_df[pp_df['period'] == pp_df['period'].max()]\n",
    "              .groupby('session')['stag'].sum()\n",
    "              .value_counts()\n",
    "              .rename(\"Play-for-Pair\"))\n",
    "\n",
    "# Do the same for \"Play-for-Self\"\n",
    "pfs_counts = (ps_df[ps_df['period'] == ps_df['period'].max()]\n",
    "              .groupby('session')['stag'].sum()\n",
    "              .value_counts()\n",
    "              .rename(\"Play-for-Self\"))\n",
    "\n",
    "\n",
    "# Combine into a single DataFrame\n",
    "df = pd.concat([pfp_counts, pfs_counts], axis=1)\n",
    "\n",
    "# Reset index to get a column for the outcome\n",
    "df = df.reset_index().rename(columns={'index': 'Outcome'})\n",
    "\n",
    "# Print using tabulate\n",
    "print(tabulate(df, headers=df.columns, tablefmt=\"pretty\", showindex=False))"
   ]
  },
  {
   "cell_type": "markdown",
   "metadata": {},
   "source": [
    "## Recreate Table 4\n",
    "Outcomes: number of observations (percentages), by category."
   ]
  },
  {
   "cell_type": "code",
   "execution_count": null,
   "metadata": {},
   "outputs": [],
   "source": [
    "# Compute value counts\n",
    "pfp_counts = pp_df.groupby(['session','period'])['stag'].sum().value_counts().rename(\"Play-for-Pair\")\n",
    "pfs_counts = ps_df.groupby(['session','period'])['stag'].sum().value_counts().rename(\"Play-for-Self\")\n",
    "\n",
    "# Combine into a single DataFrame\n",
    "df = pd.concat([pfp_counts, pfs_counts], axis=1)\n",
    "\n",
    "# Reset index so we have a named column for outcomes\n",
    "df = df.reset_index().rename(columns={'index': 'Outcome'})\n",
    "\n",
    "# Print in a tabulated format\n",
    "print(tabulate(df, headers=df.columns, tablefmt=\"pretty\", showindex=False))"
   ]
  },
  {
   "cell_type": "markdown",
   "metadata": {},
   "source": [
    "## Recreate Table 5\n",
    "Rates of Stag play over time, by game."
   ]
  },
  {
   "cell_type": "code",
   "execution_count": null,
   "metadata": {},
   "outputs": [],
   "source": [
    "# First five periods\n",
    "pp_df_first_five = pp_df[pp_df['period'] < 5]\n",
    "ps_df_first_five = ps_df[ps_df['period'] < 5]\n",
    "\n",
    "# Middle five periods\n",
    "pp_df_middle_five = pp_df[(pp_df['period'] >= 5) & (pp_df['period'] < 10)]\n",
    "ps_df_middle_five = ps_df[(ps_df['period'] >= 5) & (ps_df['period'] < 10)]\n",
    "\n",
    "# Last five periods\n",
    "pp_df_last_five = pp_df[pp_df['period'] >= 10]\n",
    "ps_df_last_five = ps_df[ps_df['period'] >= 10]\n",
    "\n",
    "# Total sum of stag decisions for each player by each period group\n",
    "pp_first_five = pp_df_first_five['stag'].mean()\n",
    "ps_first_five = ps_df_first_five['stag'].mean()\n",
    "\n",
    "pp_middle_five = pp_df_middle_five['stag'].mean()\n",
    "ps_middle_five = ps_df_middle_five['stag'].mean()\n",
    "\n",
    "pp_last_five = pp_df_last_five['stag'].mean()\n",
    "ps_last_five = ps_df_last_five['stag'].mean()\n",
    "\n",
    "data = [\n",
    "    [\"First Five Periods\", f\"{pp_first_five:.2%}\", f\"{ps_first_five:.2%}\"],\n",
    "    #[\"First Five Periods Sum\", pp_df_first_five[\"stag\"].sum(), ps_df_first_five[\"stag\"].sum()],\n",
    "    [\"Middle Five Periods\", f\"{pp_middle_five:.2%}\", f\"{ps_middle_five:.2%}\"],\n",
    "    #[\"Middle Five Periods Sum\", pp_df_middle_five[\"stag\"].sum(), ps_df_middle_five[\"stag\"].sum()],\n",
    "    [\"Last Five Periods\", f\"{pp_last_five:.2%}\", f\"{ps_last_five:.2%}\"],\n",
    "    #[\"Last Five Periods Sum\", pp_df_last_five[\"stag\"].sum(), ps_df_last_five[\"stag\"].sum()],\n",
    "    [\"Total Stag\", pp_df[\"stag\"].sum(), ps_df[\"stag\"].sum()],\n",
    "    [\"Count\", len(pp_df), len(ps_df)]\n",
    "]\n",
    "\n",
    "\n",
    "print(tabulate(data, headers=[\"\", \"Play-for-Pair\", \"Play-for-Self\"], tablefmt=\"pretty\"))\n"
   ]
  },
  {
   "cell_type": "markdown",
   "metadata": {},
   "source": [
    "## Recreate Table 6\n",
    "Individual choice tendencies, by game."
   ]
  },
  {
   "cell_type": "code",
   "execution_count": null,
   "metadata": {},
   "outputs": [],
   "source": [
    "from tabulate import tabulate\n",
    "pp_mostly_stag = (pp_df.groupby(['session','player'])['stag'].sum() > 10).sum()\n",
    "pp_mix = (pp_df.groupby(['session','player'])['stag'].sum() > 6).sum() - pp_mostly_stag\n",
    "pp_mostly_hare = (pp_df.groupby(['session','player'])['stag'].sum() <= 6).sum()\n",
    "\n",
    "ps_mostly_stag = (ps_df.groupby(['session','player'])['stag'].sum() > 10).sum()\n",
    "ps_mix = (ps_df.groupby(['session','player'])['stag'].sum() > 6).sum() - ps_mostly_stag\n",
    "ps_mostly_hare = (ps_df.groupby(['session','player'])['stag'].sum() <= 6).sum()\n",
    "\n",
    "pp_first_last = (pp_df[(pp_df['period']==0) | (pp_df['period']==pp_df['period'].max())].groupby(['session','player'])['stag'].sum().reset_index()['stag']==1).sum()\n",
    "ps_first_last = (ps_df[(ps_df['period']==0) | (ps_df['period']==ps_df['period'].max())].groupby(['session','player'])['stag'].sum().reset_index()['stag']==1).sum()\n",
    "\n",
    "pp_df_first_last = (pp_df[(pp_df['period']==0) | (pp_df['period']==pp_df['period'].max())]).copy()\n",
    "ps_df_first_last = (ps_df[(ps_df['period']==0) | (ps_df['period']==ps_df['period'].max())]).copy()\n",
    "\n",
    "pp_df_first_last['stag_int'] = pp_df_first_last['stag'].astype(int)\n",
    "pp_df_first_last['stag_shift'] = pp_df_first_last.groupby(['session','player'])['stag'].shift()\n",
    "pp_df_first_last['stag_diff'] = (pp_df_first_last['stag'] - pp_df_first_last['stag_shift'])\n",
    "\n",
    "ps_df_first_last['stag_int'] = ps_df_first_last['stag'].astype(int)\n",
    "ps_df_first_last['stag_shift'] = ps_df_first_last.groupby(['session','player'])['stag'].shift()\n",
    "ps_df_first_last['stag_diff'] = (ps_df_first_last['stag'] - ps_df_first_last['stag_shift'])\n",
    "\n",
    "\n",
    "print(pp_df[(pp_df['period']==0) | (pp_df['period']==pp_df['period'].max())].groupby(['session','player'])['stag'].diff().value_counts())\n",
    "print(ps_df[(ps_df['period']==0) | (ps_df['period']==ps_df['period'].max())].groupby(['session','player'])['stag'].diff().value_counts())\n",
    "\n",
    "total = len(ps_df.groupby(['session','player']))\n",
    "\n",
    "data = [\n",
    "    [\"Play for Pair\", pp_mostly_stag, pp_mix, pp_mostly_hare, pp_first_last, total],\n",
    "    [\"Play for Self\", ps_mostly_stag, ps_mix, ps_mostly_hare, ps_first_last, total]\n",
    "]\n",
    "\n",
    "headers = [\"Category\", \"Mostly Stag\", \"Mix\", \"Mostly Hare\", \"Switch\", \"Total\"]\n",
    "#print(pp_mix)\n",
    "print(tabulate(data, headers=headers, tablefmt=\"grid\"))\n",
    "#ps_df_first_last[ps_df_first_last['stag_diff']!=0].dropna().head(50).sort_values(['session','player','period']).dropna()[['stag','stag_shift','stag_diff']]"
   ]
  },
  {
   "cell_type": "markdown",
   "metadata": {},
   "source": [
    "# Recreate Table 7"
   ]
  },
  {
   "cell_type": "code",
   "execution_count": null,
   "metadata": {},
   "outputs": [],
   "source": [
    "_pp_df = pp_df.copy()\n",
    "_pp_df['bad_outcome'] = _pp_df['payoff']==1\n",
    "_pp_df = _pp_df.merge(_pp_df.groupby(['session','player'])['bad_outcome'].sum().reset_index().rename(columns={'bad_outcome':'bad_outcomes'}), on=['session','player'], how='left')\n",
    "_pp_df"
   ]
  },
  {
   "cell_type": "markdown",
   "metadata": {},
   "source": [
    "# Effects of Switching\n"
   ]
  },
  {
   "cell_type": "code",
   "execution_count": null,
   "metadata": {},
   "outputs": [],
   "source": [
    "def xnor(group):\n",
    "    return group.all() or ~group.any()  "
   ]
  },
  {
   "cell_type": "code",
   "execution_count": null,
   "metadata": {},
   "outputs": [],
   "source": [
    "#Pritn out the function map_shift in its code"
   ]
  },
  {
   "cell_type": "code",
   "execution_count": null,
   "metadata": {},
   "outputs": [],
   "source": [
    "pp_df"
   ]
  },
  {
   "cell_type": "code",
   "execution_count": null,
   "metadata": {},
   "outputs": [],
   "source": [
    "def map_shift(shift):\n",
    "    if shift == 0:\n",
    "        return 'No Shift'\n",
    "    elif shift==1:\n",
    "        return 'Hare to Stag'\n",
    "    elif shift==-1:\n",
    "        return 'Stag to Hare'\n",
    "def get_mix(df):\n",
    "    df = df.copy()\n",
    "    \n",
    "    #df['disagree'] = df.groupby(['session','period'])['stag'].transform(lambda x: (x==1).all() or (x==0).all())\n",
    "    df['bad_outcome'] = df.groupby(['session','player'])['payoff'].transform(lambda x: (x==1).any())\n",
    "    df['two_bad_outcomes'] = df.groupby(['session','player'])['payoff'].transform(lambda x: (x==1).sum()==2)\n",
    "    df['more_bad_outcomes'] = df.groupby(['session','player'])['payoff'].transform(lambda x: (x==1).sum()>=3)\n",
    "    df['bad_outcomes'] = df.groupby(['session','player'])['payoff'].transform(lambda x: (x==1).sum())\n",
    "    df['shift'] = df.sort_values(['session','player','period']).groupby(['session','player'])['stag'].diff()\n",
    "    #df['lag_5'] = df.sort_values(['session','player','period']).groupby(['session','player'])['shift'].diff()*-1\n",
    "    #df['lag_4'] = df.sort_values(['session','player','period']).groupby(['session','player'])['lag_5'].diff()*-1\n",
    "    #df['lag_3'] = df.sort_values(['session','player','period']).groupby(['session','player'])['lag_4'].diff()*-1\n",
    "    #df['lag_2'] = df.sort_values(['session','player','period']).groupby(['session','player'])['lag_3'].diff()*-1\n",
    "    #df['lag_1'] = df.sort_values(['session','player','period']).groupby(['session','player'])['lag_2'].diff()*-1\n",
    "    \n",
    "    df['shift_label'] = df['shift'].map(map_shift)\n",
    "    \n",
    "    #df['stag->hare'] = df['shift_label'] == 'Stag to Hare'\n",
    "    #df['hare->stag'] = df['shift_label'] == 'Hare to Stag'\n",
    "    #df['no-shift'] = df['shift_label'] == 'No Shift'    \n",
    "    df['stag->hare'] = df.groupby(['session'])['shift'].transform(lambda x: (x==-1).any())\n",
    "    df['hare->stag'] = df.groupby(['session'])['shift'].transform(lambda x: (x==1).any())\n",
    "    df['no-shift'] = df.groupby(['session'])['shift'].transform(lambda x: (x==0).any())\n",
    "    df_agree = df.sort_values(['session','period','player']).groupby(['session','period'])['stag'].apply(xnor).reset_index()\n",
    "    df_agree.rename(columns={'stag':'agree'},inplace=True)\n",
    "    df = df.merge(df_agree, on=['session','period'], how='left')\n",
    "    session_agree = df.sort_values(['session','player','period']).groupby('session')['agree'].all().reset_index().rename(columns={'agree':'session_agree'})\n",
    "    df = df.merge(session_agree, on='session', how='left')\n",
    "    return df\n",
    "pp_mix = get_mix(pp_df)\n",
    "ps_mix = get_mix(ps_df)"
   ]
  },
  {
   "cell_type": "code",
   "execution_count": null,
   "metadata": {},
   "outputs": [],
   "source": [
    "pp_mix['bad_outcomes'].value_counts()"
   ]
  },
  {
   "cell_type": "code",
   "execution_count": null,
   "metadata": {},
   "outputs": [],
   "source": [
    "pp_mix[pp_mix['session_agree']==False].head(30)"
   ]
  },
  {
   "cell_type": "code",
   "execution_count": null,
   "metadata": {},
   "outputs": [],
   "source": [
    "pp_mix['play_for_self'] = False\n",
    "ps_mix['play_for_self'] = True\n",
    "pp_ps_mix = pd.concat([pp_mix,ps_mix])"
   ]
  },
  {
   "cell_type": "code",
   "execution_count": null,
   "metadata": {},
   "outputs": [],
   "source": [
    "y = pp_ps_mix[pp_mix['period']==14]['stag'].astype(int)\n",
    "X = pp_ps_mix[pp_mix['period']==14][['play_for_self', 'bad_outcome','two_bad_outcomes','more_bad_outcomes']].astype(int)\n",
    "X = sm.add_constant(X)\n",
    "model = sm.Probit(y, X).fit(maxiter=1000)\n",
    "print(model.summary())"
   ]
  },
  {
   "cell_type": "code",
   "execution_count": null,
   "metadata": {},
   "outputs": [],
   "source": [
    "pp_mix[pp_mix['session_agree']==False].sort_values(['session','period','player'])"
   ]
  },
  {
   "cell_type": "code",
   "execution_count": null,
   "metadata": {},
   "outputs": [],
   "source": [
    "pp_mix.sort_values(['session','period','player'],inplace=True)\n",
    "def plot_agreement(df,label=\"\"):\n",
    "    plt.title(\"Agreement between Players - Both Stag or Both Hare\")\n",
    "    plt.plot(df.groupby(['period'])['agree'].mean(),label=label)\n",
    "    print(label, df.groupby(['period'])['agree'].mean())\n",
    "    print(label, df.groupby(['period'])['agree'].sum())\n",
    "    plt.xlabel(\"Period #\")\n",
    "    plt.ylabel(\"Agreement (%)\")\n",
    "    plt.ylim([0.5,1.05])\n",
    "\n",
    "plt.figure(figsize=(7, 3))\n",
    "plot_agreement(pp_mix, \"Play for Pair\")\n",
    "plot_agreement(ps_mix, \"Play for self\")\n",
    "plt.grid()\n",
    "plt.legend()\n",
    "plt.show()"
   ]
  },
  {
   "cell_type": "code",
   "execution_count": null,
   "metadata": {},
   "outputs": [],
   "source": [
    "pp_mix[pp_mix['agree']==False]"
   ]
  },
  {
   "cell_type": "code",
   "execution_count": null,
   "metadata": {},
   "outputs": [],
   "source": [
    "print('play for pair - Given Agreement', pp_mix[pp_mix['agree']==True].shift_label.value_counts(normalize=True))\n",
    "print('play for self - Given Agreement', ps_mix[ps_mix['agree']==True].shift_label.value_counts(normalize=True))\n",
    "# Now the opposite\n",
    "print('play for pair - Given Disagreement', pp_mix[pp_mix['agree']==False].shift_label.value_counts(normalize=True))\n",
    "print('play for self - Given Disagreement', ps_mix[ps_mix['agree']==False].shift_label.value_counts(normalize=True))\n"
   ]
  },
  {
   "cell_type": "code",
   "execution_count": null,
   "metadata": {},
   "outputs": [],
   "source": [
    "def calculate_per_period_shifts(data, agree_condition):\n",
    "    per_period = (\n",
    "        data[data['agree'] == agree_condition]\n",
    "        .groupby('period')['shift_label']\n",
    "        .value_counts() # Add in empty values\n",
    "        .rename('count')\n",
    "        .reset_index()\n",
    "    )\n",
    "    # Add the proportion\n",
    "    per_period['proportion'] = per_period.groupby('period')['count'].transform(lambda x: x / x.sum())\n",
    "    return per_period"
   ]
  },
  {
   "cell_type": "code",
   "execution_count": null,
   "metadata": {},
   "outputs": [],
   "source": [
    "np.array([[i]*3 for i in range(15)]).reshape(-1)"
   ]
  },
  {
   "cell_type": "code",
   "execution_count": null,
   "metadata": {},
   "outputs": [],
   "source": [
    "pp_agree = calculate_per_period_shifts(pp_mix, agree_condition=True)\n",
    "ps_agree = calculate_per_period_shifts(ps_mix, agree_condition=True)\n",
    "pp_disagree = calculate_per_period_shifts(pp_mix, agree_condition=False)\n",
    "ps_disagree = calculate_per_period_shifts(ps_mix, agree_condition=False)\n",
    "\n",
    "\n",
    "\n",
    "template = pd.DataFrame({'period': np.array([[i]*3 for i in range(15)]).reshape(-1), 'shift_label': ['No Shift', 'Stag to Hare', 'Hare to Stag']*15})\n",
    "pp_agree = template.merge(pp_agree, on=['period', 'shift_label'], how='left').fillna(0)\n",
    "ps_agree = template.merge(ps_agree, on=['period', 'shift_label'], how='left').fillna(0)\n",
    "pp_disagree = template.merge(pp_disagree, on=['period', 'shift_label'], how='left').fillna(0)\n",
    "ps_disagree = template.merge(ps_disagree, on=['period', 'shift_label'], how='left').fillna(0)\n",
    "\n",
    "print(\"Play for Pair Agree\", pp_agree)\n",
    "print(\"Play for Self Agree\", ps_agree)\n",
    "print(\"Play for Pair Disagree\", pp_disagree)\n",
    "print(\"Play for Self Disagree\", ps_disagree)\n"
   ]
  },
  {
   "cell_type": "code",
   "execution_count": null,
   "metadata": {},
   "outputs": [],
   "source": [
    "\n",
    "# Plotting function for the per-period average shifting\n",
    "def plot_per_period_shifts(per_period_data, title):\n",
    "    \n",
    "    print(title, per_period_data)\n",
    "    for shift_label in per_period_data['shift_label'].unique():\n",
    "        subset = per_period_data[per_period_data['shift_label'] == shift_label]\n",
    "        plt.plot(subset['period'], subset['proportion'], label=shift_label)\n",
    "\n",
    "    plt.title(title)\n",
    "    plt.xlabel('Period')\n",
    "    plt.ylabel('Proportion')\n",
    "    plt.legend()\n",
    "\n",
    "# Plot the results for each scenario\n",
    "plot_per_period_shifts(pp_agree, \"Play for Pair - Agreement\")\n",
    "plot_per_period_shifts(ps_agree, \"Play for Self - Agreement\")\n",
    "plot_per_period_shifts(pp_disagree, \"Play for Pair - Disagreement\")\n",
    "plot_per_period_shifts(ps_disagree, \"Play for Self - Disagreement\")\n",
    "\n",
    "plt.show()"
   ]
  }
 ],
 "metadata": {
  "kernelspec": {
   "display_name": ".venv",
   "language": "python",
   "name": "python3"
  },
  "language_info": {
   "codemirror_mode": {
    "name": "ipython",
    "version": 3
   },
   "file_extension": ".py",
   "mimetype": "text/x-python",
   "name": "python",
   "nbconvert_exporter": "python",
   "pygments_lexer": "ipython3",
   "version": "3.13.1"
  }
 },
 "nbformat": 4,
 "nbformat_minor": 2
}
